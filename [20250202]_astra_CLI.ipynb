{
  "cells": [
    {
      "cell_type": "markdown",
      "metadata": {
        "id": "qRW8jsQmRFqd"
      },
      "source": [
        "\n",
        "# ~ CLI 프로그램 만들기 ~\n",
        "\n",
        "> **카드뒤집기 게임**  \n",
        "> 3레벨로 구성된 카드 뒤집기 게임입니다.  \n",
        "> hp가 다 떨어지면 게임오버가 됩니다.  \n",
        "> 가장 높은 score를 얻어보세요!"
      ]
    },
    {
      "cell_type": "markdown",
      "metadata": {
        "id": "bjxXsgy0a-sZ"
      },
      "source": [
        "### 라이브러리 import"
      ]
    },
    {
      "cell_type": "code",
      "execution_count": null,
      "metadata": {
        "id": "FVsbfndRUJlV"
      },
      "outputs": [],
      "source": [
        "from google.colab import output\n",
        "import random\n",
        "import time\n",
        "import numpy as np"
      ]
    },
    {
      "cell_type": "markdown",
      "metadata": {
        "id": "8jWK5eUnbNuJ"
      },
      "source": [
        "### change screen 함수\n",
        "\n",
        "**기능**\n",
        "1. 화면 시간 지연\n",
        "2. 지연 후, 출력 초기화\n",
        "3. 상단에 level, hp, score출력"
      ]
    },
    {
      "cell_type": "code",
      "execution_count": null,
      "metadata": {
        "id": "coPacpJ2Q5Ah"
      },
      "outputs": [],
      "source": [
        "def change_screen(sec, level, hp, score):\n",
        "  time.sleep(sec)\n",
        "  output.clear()\n",
        "\n",
        "  print(f'level : {level} | hp : {chr(0x1F9E1)*hp} | score : {score}')\n",
        "  print(f'=============================={\"=\"*hp}{\"=\"*len(str(score))}\\n')\n"
      ]
    },
    {
      "cell_type": "markdown",
      "metadata": {
        "id": "CCtUJGbTcyLI"
      },
      "source": [
        "### print_cards 함수\n",
        "\n",
        "**기능**\n",
        "1. 인자로 받은 list_1 numpy.array(shape : -1, 3)를 예쁘게 출력"
      ]
    },
    {
      "cell_type": "code",
      "execution_count": null,
      "metadata": {
        "id": "O7qwXlKQBc2x"
      },
      "outputs": [],
      "source": [
        "def print_cards(list_1):\n",
        "  print(\"===========================\")\n",
        "  for l in list_1:\n",
        "    print(f\"||       |       |       ||\")\n",
        "    print(\"||\",end='')\n",
        "    for i in l:\n",
        "      print(\"{:^7}\".format(i)+\"|\",end=\"\")\n",
        "    print(\"|\")\n",
        "    print(f\"||       |       |       ||\")\n",
        "    print(\"===========================\")"
      ]
    },
    {
      "cell_type": "markdown",
      "metadata": {
        "id": "_OsrZFg9dFcu"
      },
      "source": [
        "### show_cards 함수\n",
        "\n",
        "**기능**\n",
        "1. 카드를 numpy.array(shape : -1,3)로 변환.\n",
        "2. print_cards를 호출."
      ]
    },
    {
      "cell_type": "code",
      "execution_count": null,
      "metadata": {
        "id": "nSuLsLCwXEAW"
      },
      "outputs": [],
      "source": [
        "def show_cards(card) :\n",
        "  card = np.array(card).reshape(-1,3)\n",
        "\n",
        "  print_cards(card)"
      ]
    },
    {
      "cell_type": "markdown",
      "metadata": {
        "id": "MTsqlt0Qdkpy"
      },
      "source": [
        "### hide_cards 함수\n",
        "\n",
        "**기능**  \n",
        "[뒷면이 보이게 카드를 뒤집는다]\n",
        "1. 해당 카드의 위치를 출력한다.\n",
        "1. 다만, 이미 터진 카드 쌍은 공백을 출력한다."
      ]
    },
    {
      "cell_type": "code",
      "execution_count": null,
      "metadata": {
        "id": "MiQdWuJuZRgM"
      },
      "outputs": [],
      "source": [
        "def hide_cards(card) :\n",
        "\n",
        "  loc= []\n",
        "  for i in range(len(card)):\n",
        "    if card[i] == 'X':\n",
        "      loc.append('')\n",
        "    else :\n",
        "      loc.append(i)\n",
        "\n",
        "  loc = np.array(loc).reshape(-1,3)\n",
        "\n",
        "  print_cards(loc)"
      ]
    },
    {
      "cell_type": "markdown",
      "metadata": {
        "id": "lNwyDy2deBjs"
      },
      "source": [
        "### open_cards 함수\n",
        "\n",
        "**기능**  \n",
        "[선택한 카드만 앞면이 보이게 카드를 뒤집는다.]\n",
        "1. 선택하지 않은 카드들은 위치를 출력\n",
        "2. 선택된 카드들은 마젠타색으로 모양을 공개한다."
      ]
    },
    {
      "cell_type": "code",
      "execution_count": null,
      "metadata": {
        "id": "gAi_ZGS-d9P6"
      },
      "outputs": [],
      "source": [
        "def open_cards(card, loc1, loc2):\n",
        "\n",
        "  loc= []\n",
        "  for i in range(len(card)):\n",
        "    if card[i] == 'X':\n",
        "      loc.append('')\n",
        "    else :\n",
        "      loc.append(i)\n",
        "\n",
        "  loc[loc1] = '   \\033[95m'+card[loc1]+ '\\033[0m   '\n",
        "  loc[loc2] = '   \\033[95m'+card[loc2]+ '\\033[0m   '\n",
        "\n",
        "  loc = np.array(loc).reshape(-1,3)\n",
        "\n",
        "  print_cards(loc)\n"
      ]
    },
    {
      "cell_type": "markdown",
      "metadata": {
        "id": "Xrc3JjwSeW6j"
      },
      "source": [
        "### game_over 함수\n",
        "\n",
        "**기능**\n",
        "1. 게임이 종료됐을 때 게임 기록 출력"
      ]
    },
    {
      "cell_type": "code",
      "execution_count": null,
      "metadata": {
        "id": "tcP2aY7F6blP"
      },
      "outputs": [],
      "source": [
        "def game_over(level=0, hp=0, score=0):\n",
        "  output.clear()\n",
        "  print('\\n\\n          GAME OVER\\n\\n')\n",
        "\n",
        "  if level != 0:\n",
        "    print('\\nyour score\\n')\n",
        "    print(f'level : {level} | score : {score}')"
      ]
    },
    {
      "cell_type": "markdown",
      "metadata": {
        "id": "y5mdjwbAejWz"
      },
      "source": [
        "### GAME 함수\n",
        "\n",
        "**기능**  \n",
        "[카드게임의 메인 함수]\n",
        "1. 카드 뒤집기 게임을 시작한다.\n",
        "2. 레벨은 총 3까지 있다.\n",
        "3. 카드를 랜덤으로 섞어서 출력한다.\n",
        "4. 사용자에게 카드 2개의 위치를 입력받는다.\n",
        "  1. 해당 카드가 짝이 맞으면 터진다. score++\n",
        "  2. 해당 카드가 짝이 맞지 않으면 다시 도전. score--, hp--\n",
        "5. hp가 0 이하거나, 레벨3 이상이되면 게임종료"
      ]
    },
    {
      "cell_type": "code",
      "execution_count": null,
      "metadata": {
        "id": "m1xPvduEQ_Hb"
      },
      "outputs": [],
      "source": [
        "def GAME():\n",
        "  print(\"\\n\\n      ~ 카드뒤집기 게임 ~\\n\\n        START!(y/n)\\n\")\n",
        "\n",
        "  while True:\n",
        "    start = input()\n",
        "    if start == 'y':\n",
        "      break\n",
        "    elif start == 'n':\n",
        "      game_over()\n",
        "      return None\n",
        "    else : pass\n",
        "\n",
        "  level, hp, score = 1,3,0\n",
        "\n",
        "  while level < 4 :\n",
        "    change_screen(4,level, hp, score)\n",
        "\n",
        "    card=['A','B','C','D','E','F','G','H','I'][:(level)*3]*2\n",
        "    random.shuffle(card)\n",
        "\n",
        "    show_cards(card)\n",
        "    change_screen(2,level, hp, score)\n",
        "\n",
        "    while card != ['X']*len(card):\n",
        "      card_loc1, card_loc2 = -1, -1\n",
        "      while not(-1<card_loc1<len(card) and -1<card_loc2<len(card)):\n",
        "        hide_cards(card)\n",
        "        try :\n",
        "          print(f\"\\n\\n첫번째로 선택할 카드 위치(숫자) : \",end=\"\")\n",
        "          card_loc1 = int(input())\n",
        "          print(f\"두번째로 선택할 카드 위치(숫자) : \",end=\"\")\n",
        "          card_loc2 = int(input())\n",
        "        except: pass\n",
        "        change_screen(2,level, hp, score)\n",
        "\n",
        "      open_cards(card, card_loc1, card_loc2)\n",
        "\n",
        "      if card[card_loc1] == card[card_loc2]:\n",
        "        print('맞췄습니다!')\n",
        "        card[card_loc1], card[card_loc2] = 'X', 'X'\n",
        "        score += 1\n",
        "        change_screen(3,level, hp, score)\n",
        "      else :\n",
        "        print('틀렸습니다!')\n",
        "        score -= 1\n",
        "        hp -= 1\n",
        "        if hp < 1 :\n",
        "          game_over(level, hp, score)\n",
        "          return None\n",
        "        change_screen(2,level, hp, score)\n",
        "\n",
        "\n",
        "    output.clear()\n",
        "    level += 1\n",
        "    hp += 1\n",
        "    if level < 4:\n",
        "      print('\\n\\n          LEVEL UP!\\n\\n')\n",
        "      change_screen(3,level, hp, score)\n",
        "    else : pass\n",
        "\n",
        "  print('\\n\\n          CLEAR!\\n\\n')\n",
        "  print('\\nyour score\\n')\n",
        "  print(f'level : {level} | score : {score}')"
      ]
    },
    {
      "cell_type": "markdown",
      "metadata": {
        "id": "1RXf8LflfXEc"
      },
      "source": [
        "### 게임을 직접 실행해 봅시다!"
      ]
    },
    {
      "cell_type": "code",
      "execution_count": null,
      "metadata": {
        "id": "1azGzbkpdSKa"
      },
      "outputs": [],
      "source": [
        "GAME()"
      ]
    }
  ],
  "metadata": {
    "colab": {
      "private_outputs": true,
      "provenance": []
    },
    "kernelspec": {
      "display_name": "Python 3",
      "name": "python3"
    },
    "language_info": {
      "name": "python"
    }
  },
  "nbformat": 4,
  "nbformat_minor": 0
}
